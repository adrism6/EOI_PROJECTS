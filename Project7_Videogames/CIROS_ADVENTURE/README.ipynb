{
 "cells": [
  {
   "cell_type": "markdown",
   "metadata": {},
   "source": [
    "# Ciro's Adventure"
   ]
  },
  {
   "cell_type": "markdown",
   "metadata": {},
   "source": [
    "## Index"
   ]
  },
  {
   "cell_type": "markdown",
   "metadata": {},
   "source": [
    "1. [Detailed explanation.](#section1)\n",
    "2. [Implemented features.](#section2)\n",
    "3. [Quick start.](#section3)\n",
    "4. [Future implementations.](#section4)\n",
    "5. [Information](#section5)"
   ]
  },
  {
   "cell_type": "markdown",
   "metadata": {},
   "source": [
    "<a id='section1'></a>"
   ]
  },
  {
   "cell_type": "markdown",
   "metadata": {},
   "source": [
    "## 1. Detailed explanation."
   ]
  },
  {
   "cell_type": "markdown",
   "metadata": {},
   "source": [
    "Meet the parrot Ciro in his adventure through the woods! \\[For moving, you can use ***WASD*** or ***arrow keys***]"
   ]
  },
  {
   "cell_type": "markdown",
   "metadata": {},
   "source": [
    "![ciro](./img/README_IMAGES/parrot.png)"
   ]
  },
  {
   "cell_type": "markdown",
   "metadata": {},
   "source": [
    "Through his journey he will encounter some enemies, like red bees or hunters.\n",
    "\n",
    "Smash them using your wings! \\[***left click***]"
   ]
  },
  {
   "cell_type": "markdown",
   "metadata": {},
   "source": [
    "![redbee](./img/README_IMAGES/red_bee.png) ![hunter](./img/README_IMAGES/hunter.png)"
   ]
  },
  {
   "cell_type": "markdown",
   "metadata": {},
   "source": [
    "If you destroy all 3 beehives on your level, you'll pass to the next one!"
   ]
  },
  {
   "cell_type": "markdown",
   "metadata": {},
   "source": [
    "![beehive](./img/README_IMAGES/bee_hive.png)"
   ]
  },
  {
   "cell_type": "markdown",
   "metadata": {},
   "source": [
    "But, if you manage to destroy all enemies on your level, you'll obtain a shooting style and you'll be able to shoot seeds to your enemies!\n",
    "\n",
    "There are a total of 3 shooting styles waiting for you to discover them! Try and kill!!\n",
    "\n",
    "You can change between your wings and the different shooting styles that you have obtained! \\[***mouse wheel***]"
   ]
  },
  {
   "cell_type": "markdown",
   "metadata": {},
   "source": [
    "![wing](./img/README_IMAGES/wing.png) ![gun](./img/README_IMAGES/gun.png) ![seed](./img/README_IMAGES/seed.png)"
   ]
  },
  {
   "cell_type": "markdown",
   "metadata": {},
   "source": [
    "Also, you'll see one fruit on every level, pick them to heal yourself!\n",
    "\n",
    "There are a total of 21 fruits, play to discover them all! The amount of healing depends on the fruit.\n",
    "\n",
    "Be careful with avocados and eggplants, they are toxic to parrots!"
   ]
  },
  {
   "cell_type": "markdown",
   "metadata": {},
   "source": [
    "![apple](./img/README_IMAGES/apple.png) ![kiwi](./img/README_IMAGES/kiwi.png) ![avocado](./img/README_IMAGES/avocado.png) ![eggplant](./img/README_IMAGES/eggplant.png)"
   ]
  },
  {
   "cell_type": "markdown",
   "metadata": {},
   "source": [
    "In addition, on every level you'll see a tornado. Use the strength of its winds to fly quickly for a short period of time!"
   ]
  },
  {
   "cell_type": "markdown",
   "metadata": {},
   "source": [
    "![tornado](./img/README_IMAGES/speed.png)"
   ]
  },
  {
   "cell_type": "markdown",
   "metadata": {},
   "source": [
    "Somethimes, you'll be placed on trees, as seen below.\n",
    "\n",
    "In these situations, you can move around between trees a bit, usually in the edges. With any luck, you'll be able to return to the woods. If not, you can make your way using your eak as a drill, and after a few tries, you'll destroy them! \\[***right click***]\n",
    "\n",
    "This is also usefull in other situations:\n",
    " - You are trapped in a closed area and can't leave it.\n",
    " - There is a closed area with an item you want to pick.\n",
    " - There is a closed area with a beehive (or just enemies you want to kill) and you can't destroy it to pass the level.\n",
    " - If you want to get a new shooting style, you need to kill all enemies. Sometimes, bees are placed outside the woods and you can destroy some trees to let them return."
   ]
  },
  {
   "cell_type": "markdown",
   "metadata": {},
   "source": [
    "![trapped](./img/README_IMAGES/trapped.png) ![hole](./img/README_IMAGES/hole.png)"
   ]
  },
  {
   "cell_type": "markdown",
   "metadata": {},
   "source": [
    "In the top left corner of the screen, you'll be able to see your health bar, the fight style you are currently using and the current level.\n",
    "\n",
    "In the top right corner of the screen, you'll be able to see the number of enemies still alive and already killed."
   ]
  },
  {
   "cell_type": "markdown",
   "metadata": {},
   "source": [
    "![health](./img/README_IMAGES/health_weapon_level.png) ![killed](./img/README_IMAGES/alive_killed.png)"
   ]
  },
  {
   "cell_type": "markdown",
   "metadata": {},
   "source": [
    "Now, you are prepared to fly around the woods. Try to survive as much as you can! Enjoy!!"
   ]
  },
  {
   "cell_type": "markdown",
   "metadata": {},
   "source": [
    "<a id='section2'></a>"
   ]
  },
  {
   "cell_type": "markdown",
   "metadata": {},
   "source": [
    "## 2. Implemented features."
   ]
  },
  {
   "cell_type": "markdown",
   "metadata": {},
   "source": [
    "### From version 0.0.1 of the game:\n",
    "- You can encounter more enemies listed below:\n",
    "    - **Yellow Bee**: it's faster than any other but it does less damage. It will appear for the first time when you acquire your first shooting style.\n",
    "    - **Gray Bee**: it's the slowest but it harms much more than the others. It will appear for the first time when you acquire your second shooting style."
   ]
  },
  {
   "cell_type": "markdown",
   "metadata": {},
   "source": [
    "![yellow_bee](./img/README_IMAGES/fast_bee.png) ![gray_bee](./img/README_IMAGES/gray_bee.png)"
   ]
  },
  {
   "cell_type": "markdown",
   "metadata": {},
   "source": [
    "### From version 0.0.2 of the game:\n",
    "- You can encounter new enemies listed below:\n",
    "    - **Walking Sword Hunter**: he will chase you but equipped with a powerful sword. It will appear for the first time when you adquire your third shooting style.\n",
    "    - **Walking Hunter**: he's the same as the normal hunter but he will chase you. It will appear for the first time when you acquire your fourth shooting style.\n",
    "\n",
    "![walking_sword_hunter](./img/README_IMAGES/walking_sword_hunter.png) ![walking_hunter](./img/README_IMAGES/walking_hunter.png)\n",
    "- There are now level bosses!! There characteristics are:\n",
    "    - The will appear every 5 levels.\n",
    "    - There will be one boss per level, but when all bosses have appeared, there will be 2 bosses per level.\n",
    "    - You need to beat them together with the beehives to pass to the next level.\n",
    "    - *TIP*: The bosses can destroy the trees of the woods, but it will take a little time, take advantage of this to beat them from distance!\n",
    "    - The added bosses are:\n",
    "        - **Queen Bee**: It appears on level 5, and it will chase you. Be careful! If it touches you, it will produces a lot of damage.\n",
    "        - **Hunter King**: It appears on level 10, and it will chase and shoot you. Be careful! His bullets will harm you more than the ones of the other hunters.\n",
    "\n",
    "![queen_bee](./img/README_IMAGES/Queen_bee.png) ![hunter_king](./img/README_IMAGES/Hunter_King.png)\n",
    "\n",
    "- One more shooting style added, the bazooka, try it!!\n",
    "\n",
    "![bazooka](./img/README_IMAGES/bazooka.png)\n",
    "\n",
    "- A new way to obtain shooting styles: Until now you could only get new shooting styles by killing all enemies in each level. Now, you also can get them if you reach a boss level, but only if you haven't obtained the shooting style before. Remember that you can get them before their levels by killing all enemies!! The order of the shooting styles and their levels are the next ones:\n",
    "    - **Gun**: you will receive it on level 5.\n",
    "    - **Machinegun**: you will receive it on level 10.\n",
    "    - **Bazooka**: you will receive it on level 15.\n",
    "    - **Shotgun**: you will receive it on level 20.\n",
    "    \n",
    "![gun](./img/README_IMAGES/gun.png) ![machinegun](./img/README_IMAGES/machinegun.png) ![bazooka](./img/README_IMAGES/bazooka.png) ![shotgun](./img/README_IMAGES/shotgun.png)\n",
    "\n",
    "- Some other minor changes."
   ]
  },
  {
   "cell_type": "markdown",
   "metadata": {},
   "source": [
    "<a id='section3'></a>"
   ]
  },
  {
   "cell_type": "markdown",
   "metadata": {},
   "source": [
    "## 3. Quick start."
   ]
  },
  {
   "cell_type": "markdown",
   "metadata": {},
   "source": [
    "Kill all beehives to pass the level. Every 5 levels, you have to kill also the boss(es) of the level.\n",
    "\n",
    "Kill all enemies to obtain a shooting style. If you reach a boss level, you can earn one too (if you haven't earned it yet).\n",
    "\n",
    "Survive as much as you can.\n",
    "\n",
    "Controls:\n",
    "- Move: Arrows or WASD keys.\n",
    "- Hit or shoot: Left click.\n",
    "- Change fight style: Mouse wheel.\n",
    "- Drill: Left click."
   ]
  },
  {
   "cell_type": "markdown",
   "metadata": {},
   "source": [
    "<a id='section4'></a>"
   ]
  },
  {
   "cell_type": "markdown",
   "metadata": {},
   "source": [
    "## 4. Future implementations."
   ]
  },
  {
   "cell_type": "markdown",
   "metadata": {},
   "source": [
    "1. More shooting styles.\n",
    "2. More bosses.\n",
    "3. Thematic levels.\n",
    "4. Not placing the player on the trees."
   ]
  },
  {
   "cell_type": "markdown",
   "metadata": {},
   "source": [
    "<a id='section5'></a>"
   ]
  },
  {
   "cell_type": "markdown",
   "metadata": {},
   "source": [
    "## 5. Information."
   ]
  },
  {
   "cell_type": "markdown",
   "metadata": {},
   "source": [
    "Python version: 3.6.9\n",
    "\n",
    "Game version: 0.0.2\n",
    "\n",
    "Last update: 02/12/2020"
   ]
  }
 ],
 "metadata": {
  "kernelspec": {
   "display_name": "Python 3",
   "language": "python",
   "name": "python3"
  },
  "language_info": {
   "codemirror_mode": {
    "name": "ipython",
    "version": 3
   },
   "file_extension": ".py",
   "mimetype": "text/x-python",
   "name": "python",
   "nbconvert_exporter": "python",
   "pygments_lexer": "ipython3",
   "version": "3.8.0"
  }
 },
 "nbformat": 4,
 "nbformat_minor": 4
}
